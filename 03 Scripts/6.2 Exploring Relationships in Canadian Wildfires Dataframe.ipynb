{
 "cells": [
  {
   "cell_type": "markdown",
   "id": "fcf8b33b",
   "metadata": {},
   "source": [
    "# 6.2 Exploring Relationships in Canadian Wildfires Dataframe\n",
    "** **"
   ]
  },
  {
   "cell_type": "markdown",
   "id": "dbb31b01",
   "metadata": {},
   "source": [
    "## List of Contents:\n",
    "\n",
    "1. Importing libraries and files\n",
    "\n",
    "\n",
    "2. Exploring data\n",
    "\n",
    "\n",
    "3. Data cleaning\n",
    "\n",
    "\n",
    "4. Merging and transforming dataframes\n",
    "\n",
    "\n",
    "5. Exploring relationships\n",
    "    - 5.1. Correlations\n",
    "    - 5.2. Scatterplots\n",
    "    - 5.3. Pair plots\n",
    "    - 5.4. Categorical plots\n",
    "    \n",
    "    \n",
    "** **"
   ]
  },
  {
   "cell_type": "markdown",
   "id": "4b4e7ec6",
   "metadata": {},
   "source": [
    "### 1. Importing libraries and files\n",
    "** **\n"
   ]
  },
  {
   "cell_type": "code",
   "execution_count": 3,
   "id": "8f0b22af",
   "metadata": {},
   "outputs": [],
   "source": [
    "# Importing libraries\n",
    "\n",
    "import pandas as pd\n",
    "import numpy as np\n",
    "import os\n",
    "import seaborn as sns\n",
    "import matplotlib.pyplot as plt\n",
    "import matplotlib\n",
    "import geopy.distance"
   ]
  },
  {
   "cell_type": "code",
   "execution_count": 87,
   "id": "b4c9f022",
   "metadata": {},
   "outputs": [
    {
     "data": {
      "text/plain": [
       "'3.5.2'"
      ]
     },
     "execution_count": 87,
     "metadata": {},
     "output_type": "execute_result"
    }
   ],
   "source": [
    "# Checking the version of matplotlib\n",
    "\n",
    "matplotlib.__version__"
   ]
  },
  {
   "cell_type": "code",
   "execution_count": 5,
   "id": "fc542acc",
   "metadata": {},
   "outputs": [],
   "source": [
    "# This option ensures the charts you create are displayed in the notebook without the need to \"call\" them specifically.\n",
    "\n",
    "%matplotlib inline"
   ]
  },
  {
   "cell_type": "code",
   "execution_count": 6,
   "id": "19502557",
   "metadata": {},
   "outputs": [],
   "source": [
    "# Selecting shared path\n",
    "\n",
    "path = r'C:\\Users\\mehrn\\OneDrive\\Desktop\\CareerFoundry Materials\\Tasks\\06 Advanced Analytics\\15-03-2023 Canada Wildfires Analysis'"
   ]
  },
  {
   "cell_type": "code",
   "execution_count": 7,
   "id": "fdd5282c",
   "metadata": {},
   "outputs": [],
   "source": [
    "# Importing wrangled fires dataframe and \"weather of Vancouver\" open dataset provided by Environment Canada\n",
    "\n",
    "df_fires = pd.read_pickle(os.path.join(path, '02 Data', 'Prepared Data', 'wrangled_wildfires.pkl'))"
   ]
  },
  {
   "cell_type": "code",
   "execution_count": 8,
   "id": "163532f2",
   "metadata": {},
   "outputs": [],
   "source": [
    "# Importing \"weather of Alberta\" open dataset provided by Environment Canada.\n",
    "\n",
    "\n",
    "df_wthr_ab = pd.read_csv(os.path.join(path, '02 Data', 'Original Data', 'Weather_Data_Daily_Environment_Canada.csv'), usecols = [4,5,15,16,17,18,27], dtype={'Speed of Maximum Wind Gust (km/h)': str})"
   ]
  },
  {
   "cell_type": "markdown",
   "id": "5a8db153",
   "metadata": {},
   "source": [
    "### 2. Exploring data"
   ]
  },
  {
   "cell_type": "code",
   "execution_count": 9,
   "id": "faa1cb4b",
   "metadata": {
    "scrolled": true
   },
   "outputs": [
    {
     "data": {
      "text/html": [
       "<div>\n",
       "<style scoped>\n",
       "    .dataframe tbody tr th:only-of-type {\n",
       "        vertical-align: middle;\n",
       "    }\n",
       "\n",
       "    .dataframe tbody tr th {\n",
       "        vertical-align: top;\n",
       "    }\n",
       "\n",
       "    .dataframe thead th {\n",
       "        text-align: right;\n",
       "    }\n",
       "</style>\n",
       "<table border=\"1\" class=\"dataframe\">\n",
       "  <thead>\n",
       "    <tr style=\"text-align: right;\">\n",
       "      <th></th>\n",
       "      <th>Station Latitude</th>\n",
       "      <th>Station Longitude</th>\n",
       "      <th>Date</th>\n",
       "      <th>Maximum Temperature (C)</th>\n",
       "      <th>Minimum Temperature (C)</th>\n",
       "      <th>Mean Temperature (C)</th>\n",
       "      <th>Speed of Maximum Wind Gust (km/h)</th>\n",
       "    </tr>\n",
       "  </thead>\n",
       "  <tbody>\n",
       "    <tr>\n",
       "      <th>0</th>\n",
       "      <td>53.57</td>\n",
       "      <td>-113.52</td>\n",
       "      <td>2021/04/14</td>\n",
       "      <td>16.2</td>\n",
       "      <td>-0.7</td>\n",
       "      <td>7.8</td>\n",
       "      <td>NaN</td>\n",
       "    </tr>\n",
       "    <tr>\n",
       "      <th>1</th>\n",
       "      <td>53.57</td>\n",
       "      <td>-113.52</td>\n",
       "      <td>2021/04/15</td>\n",
       "      <td>17.5</td>\n",
       "      <td>-1.2</td>\n",
       "      <td>8.2</td>\n",
       "      <td>NaN</td>\n",
       "    </tr>\n",
       "    <tr>\n",
       "      <th>2</th>\n",
       "      <td>53.57</td>\n",
       "      <td>-113.52</td>\n",
       "      <td>2021/05/10</td>\n",
       "      <td>16.2</td>\n",
       "      <td>1.4</td>\n",
       "      <td>8.8</td>\n",
       "      <td>NaN</td>\n",
       "    </tr>\n",
       "    <tr>\n",
       "      <th>3</th>\n",
       "      <td>53.57</td>\n",
       "      <td>-113.52</td>\n",
       "      <td>2021/05/11</td>\n",
       "      <td>17.3</td>\n",
       "      <td>6.2</td>\n",
       "      <td>11.7</td>\n",
       "      <td>NaN</td>\n",
       "    </tr>\n",
       "    <tr>\n",
       "      <th>4</th>\n",
       "      <td>53.57</td>\n",
       "      <td>-113.52</td>\n",
       "      <td>2021/01/27</td>\n",
       "      <td>-15.1</td>\n",
       "      <td>-17.0</td>\n",
       "      <td>-16.0</td>\n",
       "      <td>NaN</td>\n",
       "    </tr>\n",
       "  </tbody>\n",
       "</table>\n",
       "</div>"
      ],
      "text/plain": [
       "   Station Latitude  Station Longitude        Date  Maximum Temperature (C)  \\\n",
       "0             53.57            -113.52  2021/04/14                     16.2   \n",
       "1             53.57            -113.52  2021/04/15                     17.5   \n",
       "2             53.57            -113.52  2021/05/10                     16.2   \n",
       "3             53.57            -113.52  2021/05/11                     17.3   \n",
       "4             53.57            -113.52  2021/01/27                    -15.1   \n",
       "\n",
       "   Minimum Temperature (C)  Mean Temperature (C)  \\\n",
       "0                     -0.7                   7.8   \n",
       "1                     -1.2                   8.2   \n",
       "2                      1.4                   8.8   \n",
       "3                      6.2                  11.7   \n",
       "4                    -17.0                 -16.0   \n",
       "\n",
       "  Speed of Maximum Wind Gust (km/h)  \n",
       "0                               NaN  \n",
       "1                               NaN  \n",
       "2                               NaN  \n",
       "3                               NaN  \n",
       "4                               NaN  "
      ]
     },
     "execution_count": 9,
     "metadata": {},
     "output_type": "execute_result"
    }
   ],
   "source": [
    "# Alberta weather information columns\n",
    "\n",
    "df_wthr_ab.head()"
   ]
  },
  {
   "cell_type": "code",
   "execution_count": 10,
   "id": "cd2f19c6",
   "metadata": {},
   "outputs": [
    {
     "data": {
      "text/plain": [
       "(71233, 7)"
      ]
     },
     "execution_count": 10,
     "metadata": {},
     "output_type": "execute_result"
    }
   ],
   "source": [
    "df_wthr_ab.shape"
   ]
  },
  {
   "cell_type": "code",
   "execution_count": 16,
   "id": "34daf22f",
   "metadata": {},
   "outputs": [
    {
     "data": {
      "text/plain": [
       "Station Latitude                     float64\n",
       "Station Longitude                    float64\n",
       "Date                                  object\n",
       "Maximum Temperature (C)              float64\n",
       "Minimum Temperature (C)              float64\n",
       "Mean Temperature (C)                 float64\n",
       "Speed of Maximum Wind Gust (km/h)     object\n",
       "dtype: object"
      ]
     },
     "execution_count": 16,
     "metadata": {},
     "output_type": "execute_result"
    }
   ],
   "source": [
    "df_wthr_ab.dtypes"
   ]
  },
  {
   "cell_type": "code",
   "execution_count": 17,
   "id": "d2350a6e",
   "metadata": {},
   "outputs": [
    {
     "data": {
      "text/plain": [
       "(62275, 8)"
      ]
     },
     "execution_count": 17,
     "metadata": {},
     "output_type": "execute_result"
    }
   ],
   "source": [
    "# Focusing on Alberta, as our weather dataset only contains data for Alberta\n",
    "\n",
    "df_fires_ab = df_fires[df_fires['src_agency']=='AB']\n",
    "df_fires_ab.shape"
   ]
  },
  {
   "cell_type": "code",
   "execution_count": 18,
   "id": "8ee443d5",
   "metadata": {},
   "outputs": [
    {
     "data": {
      "text/plain": [
       "src_agency     object\n",
       "latitude      float64\n",
       "longitude     float64\n",
       "rep_date       object\n",
       "size          float64\n",
       "cause          object\n",
       "prot_zone      object\n",
       "eco_name       object\n",
       "dtype: object"
      ]
     },
     "execution_count": 18,
     "metadata": {},
     "output_type": "execute_result"
    }
   ],
   "source": [
    "df_fires_ab.dtypes"
   ]
  },
  {
   "cell_type": "code",
   "execution_count": 20,
   "id": "0d04f8e3",
   "metadata": {},
   "outputs": [
    {
     "data": {
      "text/html": [
       "<div>\n",
       "<style scoped>\n",
       "    .dataframe tbody tr th:only-of-type {\n",
       "        vertical-align: middle;\n",
       "    }\n",
       "\n",
       "    .dataframe tbody tr th {\n",
       "        vertical-align: top;\n",
       "    }\n",
       "\n",
       "    .dataframe thead th {\n",
       "        text-align: right;\n",
       "    }\n",
       "</style>\n",
       "<table border=\"1\" class=\"dataframe\">\n",
       "  <thead>\n",
       "    <tr style=\"text-align: right;\">\n",
       "      <th></th>\n",
       "      <th>src_agency</th>\n",
       "      <th>latitude</th>\n",
       "      <th>longitude</th>\n",
       "      <th>rep_date</th>\n",
       "      <th>size</th>\n",
       "      <th>cause</th>\n",
       "      <th>prot_zone</th>\n",
       "      <th>eco_name</th>\n",
       "    </tr>\n",
       "    <tr>\n",
       "      <th>fire_id</th>\n",
       "      <th></th>\n",
       "      <th></th>\n",
       "      <th></th>\n",
       "      <th></th>\n",
       "      <th></th>\n",
       "      <th></th>\n",
       "      <th></th>\n",
       "      <th></th>\n",
       "    </tr>\n",
       "  </thead>\n",
       "  <tbody>\n",
       "    <tr>\n",
       "      <th>149410</th>\n",
       "      <td>AB</td>\n",
       "      <td>58.7508</td>\n",
       "      <td>-111.0824</td>\n",
       "      <td>1983-05-26</td>\n",
       "      <td>2.0</td>\n",
       "      <td>H</td>\n",
       "      <td></td>\n",
       "      <td>Taiga Shield West</td>\n",
       "    </tr>\n",
       "    <tr>\n",
       "      <th>149411</th>\n",
       "      <td>AB</td>\n",
       "      <td>59.5357</td>\n",
       "      <td>-110.7310</td>\n",
       "      <td>1983-06-19</td>\n",
       "      <td>1.0</td>\n",
       "      <td>L</td>\n",
       "      <td></td>\n",
       "      <td>Taiga Shield West</td>\n",
       "    </tr>\n",
       "    <tr>\n",
       "      <th>149412</th>\n",
       "      <td>AB</td>\n",
       "      <td>58.7162</td>\n",
       "      <td>-111.1210</td>\n",
       "      <td>1983-06-25</td>\n",
       "      <td>0.1</td>\n",
       "      <td>H</td>\n",
       "      <td></td>\n",
       "      <td>Taiga Shield West</td>\n",
       "    </tr>\n",
       "    <tr>\n",
       "      <th>149413</th>\n",
       "      <td>AB</td>\n",
       "      <td>58.7799</td>\n",
       "      <td>-111.0260</td>\n",
       "      <td>1983-06-28</td>\n",
       "      <td>0.1</td>\n",
       "      <td>H</td>\n",
       "      <td></td>\n",
       "      <td>Taiga Shield West</td>\n",
       "    </tr>\n",
       "    <tr>\n",
       "      <th>149414</th>\n",
       "      <td>AB</td>\n",
       "      <td>58.7799</td>\n",
       "      <td>-111.0260</td>\n",
       "      <td>1983-06-28</td>\n",
       "      <td>0.1</td>\n",
       "      <td>L</td>\n",
       "      <td></td>\n",
       "      <td>Taiga Shield West</td>\n",
       "    </tr>\n",
       "  </tbody>\n",
       "</table>\n",
       "</div>"
      ],
      "text/plain": [
       "        src_agency  latitude  longitude    rep_date  size cause prot_zone  \\\n",
       "fire_id                                                                     \n",
       "149410          AB   58.7508  -111.0824  1983-05-26   2.0     H             \n",
       "149411          AB   59.5357  -110.7310  1983-06-19   1.0     L             \n",
       "149412          AB   58.7162  -111.1210  1983-06-25   0.1     H             \n",
       "149413          AB   58.7799  -111.0260  1983-06-28   0.1     H             \n",
       "149414          AB   58.7799  -111.0260  1983-06-28   0.1     L             \n",
       "\n",
       "                  eco_name  \n",
       "fire_id                     \n",
       "149410   Taiga Shield West  \n",
       "149411   Taiga Shield West  \n",
       "149412   Taiga Shield West  \n",
       "149413   Taiga Shield West  \n",
       "149414   Taiga Shield West  "
      ]
     },
     "execution_count": 20,
     "metadata": {},
     "output_type": "execute_result"
    }
   ],
   "source": [
    "df_fires_ab.head()"
   ]
  },
  {
   "cell_type": "markdown",
   "id": "3c33b452",
   "metadata": {},
   "source": [
    "### 3. Data Cleaning\n",
    "** **"
   ]
  },
  {
   "cell_type": "code",
   "execution_count": 21,
   "id": "a3b19cee",
   "metadata": {},
   "outputs": [],
   "source": [
    "# Fixing mixed datatype\n",
    "\n",
    "df_wthr_ab['Speed of Maximum Wind Gust (km/h)'] = df_wthr_ab['Speed of Maximum Wind Gust (km/h)'].replace('<31', '30').astype('float64')"
   ]
  },
  {
   "cell_type": "code",
   "execution_count": 22,
   "id": "1babf6dc",
   "metadata": {},
   "outputs": [],
   "source": [
    "# Making date formats consistent to merge with fires datafrme\n",
    "\n",
    "df_wthr_ab['Date'] = df_wthr_ab['Date'].str.replace(\"/\",\"-\")"
   ]
  },
  {
   "cell_type": "code",
   "execution_count": 23,
   "id": "2e3b9e6a",
   "metadata": {},
   "outputs": [],
   "source": [
    "# Dropping rows with null temprature, duplicates, and renaming Date to rep_date (to be consistent and used in merge later)\n",
    "\n",
    "df_wthr_ab_clean = df_wthr_ab.loc[df_wthr_ab['Mean Temperature (C)'].isnull() == False]\n",
    "df_wthr_ab_clean = df_wthr_ab_clean.drop_duplicates(subset=['Station Latitude', 'Station Longitude', 'Date'])\n",
    "df_wthr_ab_clean = df_wthr_ab_clean.rename(columns = {'Date': 'rep_date'})"
   ]
  },
  {
   "cell_type": "code",
   "execution_count": 24,
   "id": "eb6917d0",
   "metadata": {},
   "outputs": [
    {
     "data": {
      "text/plain": [
       "(71367, 8)"
      ]
     },
     "execution_count": 24,
     "metadata": {},
     "output_type": "execute_result"
    }
   ],
   "source": [
    "df_fires_clean = df_fires.drop_duplicates(subset=['src_agency','rep_date'])\n",
    "df_fires_clean.shape"
   ]
  },
  {
   "cell_type": "code",
   "execution_count": 25,
   "id": "1d66a569",
   "metadata": {},
   "outputs": [
    {
     "data": {
      "text/plain": [
       "(59426, 7)"
      ]
     },
     "execution_count": 25,
     "metadata": {},
     "output_type": "execute_result"
    }
   ],
   "source": [
    "df_wthr_ab_clean.shape"
   ]
  },
  {
   "cell_type": "code",
   "execution_count": 26,
   "id": "e6bcccae",
   "metadata": {},
   "outputs": [
    {
     "data": {
      "text/html": [
       "<div>\n",
       "<style scoped>\n",
       "    .dataframe tbody tr th:only-of-type {\n",
       "        vertical-align: middle;\n",
       "    }\n",
       "\n",
       "    .dataframe tbody tr th {\n",
       "        vertical-align: top;\n",
       "    }\n",
       "\n",
       "    .dataframe thead th {\n",
       "        text-align: right;\n",
       "    }\n",
       "</style>\n",
       "<table border=\"1\" class=\"dataframe\">\n",
       "  <thead>\n",
       "    <tr style=\"text-align: right;\">\n",
       "      <th></th>\n",
       "      <th>Station Latitude</th>\n",
       "      <th>Station Longitude</th>\n",
       "      <th>rep_date</th>\n",
       "      <th>Maximum Temperature (C)</th>\n",
       "      <th>Minimum Temperature (C)</th>\n",
       "      <th>Mean Temperature (C)</th>\n",
       "      <th>Speed of Maximum Wind Gust (km/h)</th>\n",
       "    </tr>\n",
       "  </thead>\n",
       "  <tbody>\n",
       "    <tr>\n",
       "      <th>0</th>\n",
       "      <td>53.57</td>\n",
       "      <td>-113.52</td>\n",
       "      <td>2021-04-14</td>\n",
       "      <td>16.2</td>\n",
       "      <td>-0.7</td>\n",
       "      <td>7.8</td>\n",
       "      <td>NaN</td>\n",
       "    </tr>\n",
       "    <tr>\n",
       "      <th>1</th>\n",
       "      <td>53.57</td>\n",
       "      <td>-113.52</td>\n",
       "      <td>2021-04-15</td>\n",
       "      <td>17.5</td>\n",
       "      <td>-1.2</td>\n",
       "      <td>8.2</td>\n",
       "      <td>NaN</td>\n",
       "    </tr>\n",
       "    <tr>\n",
       "      <th>2</th>\n",
       "      <td>53.57</td>\n",
       "      <td>-113.52</td>\n",
       "      <td>2021-05-10</td>\n",
       "      <td>16.2</td>\n",
       "      <td>1.4</td>\n",
       "      <td>8.8</td>\n",
       "      <td>NaN</td>\n",
       "    </tr>\n",
       "    <tr>\n",
       "      <th>3</th>\n",
       "      <td>53.57</td>\n",
       "      <td>-113.52</td>\n",
       "      <td>2021-05-11</td>\n",
       "      <td>17.3</td>\n",
       "      <td>6.2</td>\n",
       "      <td>11.7</td>\n",
       "      <td>NaN</td>\n",
       "    </tr>\n",
       "    <tr>\n",
       "      <th>4</th>\n",
       "      <td>53.57</td>\n",
       "      <td>-113.52</td>\n",
       "      <td>2021-01-27</td>\n",
       "      <td>-15.1</td>\n",
       "      <td>-17.0</td>\n",
       "      <td>-16.0</td>\n",
       "      <td>NaN</td>\n",
       "    </tr>\n",
       "    <tr>\n",
       "      <th>...</th>\n",
       "      <td>...</td>\n",
       "      <td>...</td>\n",
       "      <td>...</td>\n",
       "      <td>...</td>\n",
       "      <td>...</td>\n",
       "      <td>...</td>\n",
       "      <td>...</td>\n",
       "    </tr>\n",
       "    <tr>\n",
       "      <th>71228</th>\n",
       "      <td>54.00</td>\n",
       "      <td>-113.47</td>\n",
       "      <td>2022-12-30</td>\n",
       "      <td>-9.1</td>\n",
       "      <td>-15.1</td>\n",
       "      <td>-12.1</td>\n",
       "      <td>NaN</td>\n",
       "    </tr>\n",
       "    <tr>\n",
       "      <th>71229</th>\n",
       "      <td>53.67</td>\n",
       "      <td>-113.86</td>\n",
       "      <td>2022-01-29</td>\n",
       "      <td>3.7</td>\n",
       "      <td>-2.3</td>\n",
       "      <td>0.7</td>\n",
       "      <td>NaN</td>\n",
       "    </tr>\n",
       "    <tr>\n",
       "      <th>71230</th>\n",
       "      <td>54.00</td>\n",
       "      <td>-113.47</td>\n",
       "      <td>2022-01-01</td>\n",
       "      <td>-7.7</td>\n",
       "      <td>-33.5</td>\n",
       "      <td>-20.6</td>\n",
       "      <td>NaN</td>\n",
       "    </tr>\n",
       "    <tr>\n",
       "      <th>71231</th>\n",
       "      <td>53.65</td>\n",
       "      <td>-113.35</td>\n",
       "      <td>2022-06-18</td>\n",
       "      <td>21.4</td>\n",
       "      <td>13.3</td>\n",
       "      <td>17.3</td>\n",
       "      <td>NaN</td>\n",
       "    </tr>\n",
       "    <tr>\n",
       "      <th>71232</th>\n",
       "      <td>53.22</td>\n",
       "      <td>-113.89</td>\n",
       "      <td>2022-08-31</td>\n",
       "      <td>32.1</td>\n",
       "      <td>10.0</td>\n",
       "      <td>21.1</td>\n",
       "      <td>NaN</td>\n",
       "    </tr>\n",
       "  </tbody>\n",
       "</table>\n",
       "<p>59426 rows × 7 columns</p>\n",
       "</div>"
      ],
      "text/plain": [
       "       Station Latitude  Station Longitude    rep_date  \\\n",
       "0                 53.57            -113.52  2021-04-14   \n",
       "1                 53.57            -113.52  2021-04-15   \n",
       "2                 53.57            -113.52  2021-05-10   \n",
       "3                 53.57            -113.52  2021-05-11   \n",
       "4                 53.57            -113.52  2021-01-27   \n",
       "...                 ...                ...         ...   \n",
       "71228             54.00            -113.47  2022-12-30   \n",
       "71229             53.67            -113.86  2022-01-29   \n",
       "71230             54.00            -113.47  2022-01-01   \n",
       "71231             53.65            -113.35  2022-06-18   \n",
       "71232             53.22            -113.89  2022-08-31   \n",
       "\n",
       "       Maximum Temperature (C)  Minimum Temperature (C)  Mean Temperature (C)  \\\n",
       "0                         16.2                     -0.7                   7.8   \n",
       "1                         17.5                     -1.2                   8.2   \n",
       "2                         16.2                      1.4                   8.8   \n",
       "3                         17.3                      6.2                  11.7   \n",
       "4                        -15.1                    -17.0                 -16.0   \n",
       "...                        ...                      ...                   ...   \n",
       "71228                     -9.1                    -15.1                 -12.1   \n",
       "71229                      3.7                     -2.3                   0.7   \n",
       "71230                     -7.7                    -33.5                 -20.6   \n",
       "71231                     21.4                     13.3                  17.3   \n",
       "71232                     32.1                     10.0                  21.1   \n",
       "\n",
       "       Speed of Maximum Wind Gust (km/h)  \n",
       "0                                    NaN  \n",
       "1                                    NaN  \n",
       "2                                    NaN  \n",
       "3                                    NaN  \n",
       "4                                    NaN  \n",
       "...                                  ...  \n",
       "71228                                NaN  \n",
       "71229                                NaN  \n",
       "71230                                NaN  \n",
       "71231                                NaN  \n",
       "71232                                NaN  \n",
       "\n",
       "[59426 rows x 7 columns]"
      ]
     },
     "execution_count": 26,
     "metadata": {},
     "output_type": "execute_result"
    }
   ],
   "source": [
    "df_wthr_ab_clean"
   ]
  },
  {
   "cell_type": "markdown",
   "id": "4bb8a5f2",
   "metadata": {},
   "source": [
    "### 4. Merging and transforming dataframes"
   ]
  },
  {
   "cell_type": "code",
   "execution_count": 27,
   "id": "b73315a3",
   "metadata": {
    "scrolled": true
   },
   "outputs": [
    {
     "data": {
      "text/html": [
       "<div>\n",
       "<style scoped>\n",
       "    .dataframe tbody tr th:only-of-type {\n",
       "        vertical-align: middle;\n",
       "    }\n",
       "\n",
       "    .dataframe tbody tr th {\n",
       "        vertical-align: top;\n",
       "    }\n",
       "\n",
       "    .dataframe thead th {\n",
       "        text-align: right;\n",
       "    }\n",
       "</style>\n",
       "<table border=\"1\" class=\"dataframe\">\n",
       "  <thead>\n",
       "    <tr style=\"text-align: right;\">\n",
       "      <th></th>\n",
       "      <th>src_agency</th>\n",
       "      <th>latitude</th>\n",
       "      <th>longitude</th>\n",
       "      <th>rep_date</th>\n",
       "      <th>size</th>\n",
       "      <th>cause</th>\n",
       "      <th>prot_zone</th>\n",
       "      <th>eco_name</th>\n",
       "      <th>Station Latitude</th>\n",
       "      <th>Station Longitude</th>\n",
       "      <th>Maximum Temperature (C)</th>\n",
       "      <th>Minimum Temperature (C)</th>\n",
       "      <th>Mean Temperature (C)</th>\n",
       "      <th>Speed of Maximum Wind Gust (km/h)</th>\n",
       "    </tr>\n",
       "  </thead>\n",
       "  <tbody>\n",
       "    <tr>\n",
       "      <th>0</th>\n",
       "      <td>AB</td>\n",
       "      <td>59.4</td>\n",
       "      <td>-110.6395</td>\n",
       "      <td>2006-06-15</td>\n",
       "      <td>5.7</td>\n",
       "      <td>L</td>\n",
       "      <td></td>\n",
       "      <td>Taiga Shield West</td>\n",
       "      <td>53.65</td>\n",
       "      <td>-113.35</td>\n",
       "      <td>18.1</td>\n",
       "      <td>12.6</td>\n",
       "      <td>15.4</td>\n",
       "      <td>NaN</td>\n",
       "    </tr>\n",
       "    <tr>\n",
       "      <th>1</th>\n",
       "      <td>AB</td>\n",
       "      <td>59.4</td>\n",
       "      <td>-110.6395</td>\n",
       "      <td>2006-06-15</td>\n",
       "      <td>5.7</td>\n",
       "      <td>L</td>\n",
       "      <td></td>\n",
       "      <td>Taiga Shield West</td>\n",
       "      <td>53.55</td>\n",
       "      <td>-114.11</td>\n",
       "      <td>19.0</td>\n",
       "      <td>12.0</td>\n",
       "      <td>15.5</td>\n",
       "      <td>NaN</td>\n",
       "    </tr>\n",
       "    <tr>\n",
       "      <th>2</th>\n",
       "      <td>AB</td>\n",
       "      <td>59.4</td>\n",
       "      <td>-110.6395</td>\n",
       "      <td>2006-06-15</td>\n",
       "      <td>5.7</td>\n",
       "      <td>L</td>\n",
       "      <td></td>\n",
       "      <td>Taiga Shield West</td>\n",
       "      <td>53.67</td>\n",
       "      <td>-113.47</td>\n",
       "      <td>17.9</td>\n",
       "      <td>11.9</td>\n",
       "      <td>14.9</td>\n",
       "      <td>NaN</td>\n",
       "    </tr>\n",
       "    <tr>\n",
       "      <th>3</th>\n",
       "      <td>AB</td>\n",
       "      <td>59.4</td>\n",
       "      <td>-110.6395</td>\n",
       "      <td>2006-06-15</td>\n",
       "      <td>5.7</td>\n",
       "      <td>L</td>\n",
       "      <td></td>\n",
       "      <td>Taiga Shield West</td>\n",
       "      <td>53.57</td>\n",
       "      <td>-113.52</td>\n",
       "      <td>17.8</td>\n",
       "      <td>13.7</td>\n",
       "      <td>15.8</td>\n",
       "      <td>NaN</td>\n",
       "    </tr>\n",
       "    <tr>\n",
       "      <th>4</th>\n",
       "      <td>AB</td>\n",
       "      <td>59.4</td>\n",
       "      <td>-110.6395</td>\n",
       "      <td>2006-06-15</td>\n",
       "      <td>5.7</td>\n",
       "      <td>L</td>\n",
       "      <td></td>\n",
       "      <td>Taiga Shield West</td>\n",
       "      <td>53.31</td>\n",
       "      <td>-113.61</td>\n",
       "      <td>17.3</td>\n",
       "      <td>13.2</td>\n",
       "      <td>15.3</td>\n",
       "      <td>NaN</td>\n",
       "    </tr>\n",
       "  </tbody>\n",
       "</table>\n",
       "</div>"
      ],
      "text/plain": [
       "  src_agency  latitude  longitude    rep_date  size cause prot_zone  \\\n",
       "0         AB      59.4  -110.6395  2006-06-15   5.7     L             \n",
       "1         AB      59.4  -110.6395  2006-06-15   5.7     L             \n",
       "2         AB      59.4  -110.6395  2006-06-15   5.7     L             \n",
       "3         AB      59.4  -110.6395  2006-06-15   5.7     L             \n",
       "4         AB      59.4  -110.6395  2006-06-15   5.7     L             \n",
       "\n",
       "            eco_name  Station Latitude  Station Longitude  \\\n",
       "0  Taiga Shield West             53.65            -113.35   \n",
       "1  Taiga Shield West             53.55            -114.11   \n",
       "2  Taiga Shield West             53.67            -113.47   \n",
       "3  Taiga Shield West             53.57            -113.52   \n",
       "4  Taiga Shield West             53.31            -113.61   \n",
       "\n",
       "   Maximum Temperature (C)  Minimum Temperature (C)  Mean Temperature (C)  \\\n",
       "0                     18.1                     12.6                  15.4   \n",
       "1                     19.0                     12.0                  15.5   \n",
       "2                     17.9                     11.9                  14.9   \n",
       "3                     17.8                     13.7                  15.8   \n",
       "4                     17.3                     13.2                  15.3   \n",
       "\n",
       "   Speed of Maximum Wind Gust (km/h)  \n",
       "0                                NaN  \n",
       "1                                NaN  \n",
       "2                                NaN  \n",
       "3                                NaN  \n",
       "4                                NaN  "
      ]
     },
     "execution_count": 27,
     "metadata": {},
     "output_type": "execute_result"
    }
   ],
   "source": [
    "# Merging alberta dataset with fires on longitude/latitude/date columns\n",
    "\n",
    "df_merged = df_fires_ab.merge(df_wthr_ab_clean, on = ['rep_date'])\n",
    "df_merged.head()"
   ]
  },
  {
   "cell_type": "code",
   "execution_count": 28,
   "id": "0c9b214d",
   "metadata": {},
   "outputs": [],
   "source": [
    "# Deriving new column: 'distance', calculated by geographic distance (logitude and latitude) via geopy.distance.geodesic().km function\n",
    "#geopy.distance.geodesic(list(zip(df['col1'], df['col2']), list(zip(df2['col21'], df2['col22'])).km\n",
    "\n",
    "df_merged['distance'] = df_merged.apply(lambda row : geopy.distance.geodesic((row['latitude'], row['longitude']), (row['Station Latitude'], row['Station Longitude'])).km, axis = 1)"
   ]
  },
  {
   "cell_type": "code",
   "execution_count": 29,
   "id": "a3738e78",
   "metadata": {},
   "outputs": [
    {
     "data": {
      "text/html": [
       "<div>\n",
       "<style scoped>\n",
       "    .dataframe tbody tr th:only-of-type {\n",
       "        vertical-align: middle;\n",
       "    }\n",
       "\n",
       "    .dataframe tbody tr th {\n",
       "        vertical-align: top;\n",
       "    }\n",
       "\n",
       "    .dataframe thead th {\n",
       "        text-align: right;\n",
       "    }\n",
       "</style>\n",
       "<table border=\"1\" class=\"dataframe\">\n",
       "  <thead>\n",
       "    <tr style=\"text-align: right;\">\n",
       "      <th></th>\n",
       "      <th>src_agency</th>\n",
       "      <th>latitude</th>\n",
       "      <th>longitude</th>\n",
       "      <th>rep_date</th>\n",
       "      <th>size</th>\n",
       "      <th>cause</th>\n",
       "      <th>prot_zone</th>\n",
       "      <th>eco_name</th>\n",
       "      <th>Station Latitude</th>\n",
       "      <th>Station Longitude</th>\n",
       "      <th>Maximum Temperature (C)</th>\n",
       "      <th>Minimum Temperature (C)</th>\n",
       "      <th>Mean Temperature (C)</th>\n",
       "      <th>Speed of Maximum Wind Gust (km/h)</th>\n",
       "      <th>distance</th>\n",
       "    </tr>\n",
       "  </thead>\n",
       "  <tbody>\n",
       "    <tr>\n",
       "      <th>0</th>\n",
       "      <td>AB</td>\n",
       "      <td>59.4</td>\n",
       "      <td>-110.6395</td>\n",
       "      <td>2006-06-15</td>\n",
       "      <td>5.7</td>\n",
       "      <td>L</td>\n",
       "      <td></td>\n",
       "      <td>Taiga Shield West</td>\n",
       "      <td>53.65</td>\n",
       "      <td>-113.35</td>\n",
       "      <td>18.1</td>\n",
       "      <td>12.6</td>\n",
       "      <td>15.4</td>\n",
       "      <td>NaN</td>\n",
       "      <td>661.500703</td>\n",
       "    </tr>\n",
       "    <tr>\n",
       "      <th>1</th>\n",
       "      <td>AB</td>\n",
       "      <td>59.4</td>\n",
       "      <td>-110.6395</td>\n",
       "      <td>2006-06-15</td>\n",
       "      <td>5.7</td>\n",
       "      <td>L</td>\n",
       "      <td></td>\n",
       "      <td>Taiga Shield West</td>\n",
       "      <td>53.55</td>\n",
       "      <td>-114.11</td>\n",
       "      <td>19.0</td>\n",
       "      <td>12.0</td>\n",
       "      <td>15.5</td>\n",
       "      <td>NaN</td>\n",
       "      <td>685.374469</td>\n",
       "    </tr>\n",
       "    <tr>\n",
       "      <th>2</th>\n",
       "      <td>AB</td>\n",
       "      <td>59.4</td>\n",
       "      <td>-110.6395</td>\n",
       "      <td>2006-06-15</td>\n",
       "      <td>5.7</td>\n",
       "      <td>L</td>\n",
       "      <td></td>\n",
       "      <td>Taiga Shield West</td>\n",
       "      <td>53.67</td>\n",
       "      <td>-113.47</td>\n",
       "      <td>17.9</td>\n",
       "      <td>11.9</td>\n",
       "      <td>14.9</td>\n",
       "      <td>NaN</td>\n",
       "      <td>661.229360</td>\n",
       "    </tr>\n",
       "    <tr>\n",
       "      <th>3</th>\n",
       "      <td>AB</td>\n",
       "      <td>59.4</td>\n",
       "      <td>-110.6395</td>\n",
       "      <td>2006-06-15</td>\n",
       "      <td>5.7</td>\n",
       "      <td>L</td>\n",
       "      <td></td>\n",
       "      <td>Taiga Shield West</td>\n",
       "      <td>53.57</td>\n",
       "      <td>-113.52</td>\n",
       "      <td>17.8</td>\n",
       "      <td>13.7</td>\n",
       "      <td>15.8</td>\n",
       "      <td>NaN</td>\n",
       "      <td>672.829807</td>\n",
       "    </tr>\n",
       "    <tr>\n",
       "      <th>4</th>\n",
       "      <td>AB</td>\n",
       "      <td>59.4</td>\n",
       "      <td>-110.6395</td>\n",
       "      <td>2006-06-15</td>\n",
       "      <td>5.7</td>\n",
       "      <td>L</td>\n",
       "      <td></td>\n",
       "      <td>Taiga Shield West</td>\n",
       "      <td>53.31</td>\n",
       "      <td>-113.61</td>\n",
       "      <td>17.3</td>\n",
       "      <td>13.2</td>\n",
       "      <td>15.3</td>\n",
       "      <td>NaN</td>\n",
       "      <td>702.353513</td>\n",
       "    </tr>\n",
       "  </tbody>\n",
       "</table>\n",
       "</div>"
      ],
      "text/plain": [
       "  src_agency  latitude  longitude    rep_date  size cause prot_zone  \\\n",
       "0         AB      59.4  -110.6395  2006-06-15   5.7     L             \n",
       "1         AB      59.4  -110.6395  2006-06-15   5.7     L             \n",
       "2         AB      59.4  -110.6395  2006-06-15   5.7     L             \n",
       "3         AB      59.4  -110.6395  2006-06-15   5.7     L             \n",
       "4         AB      59.4  -110.6395  2006-06-15   5.7     L             \n",
       "\n",
       "            eco_name  Station Latitude  Station Longitude  \\\n",
       "0  Taiga Shield West             53.65            -113.35   \n",
       "1  Taiga Shield West             53.55            -114.11   \n",
       "2  Taiga Shield West             53.67            -113.47   \n",
       "3  Taiga Shield West             53.57            -113.52   \n",
       "4  Taiga Shield West             53.31            -113.61   \n",
       "\n",
       "   Maximum Temperature (C)  Minimum Temperature (C)  Mean Temperature (C)  \\\n",
       "0                     18.1                     12.6                  15.4   \n",
       "1                     19.0                     12.0                  15.5   \n",
       "2                     17.9                     11.9                  14.9   \n",
       "3                     17.8                     13.7                  15.8   \n",
       "4                     17.3                     13.2                  15.3   \n",
       "\n",
       "   Speed of Maximum Wind Gust (km/h)    distance  \n",
       "0                                NaN  661.500703  \n",
       "1                                NaN  685.374469  \n",
       "2                                NaN  661.229360  \n",
       "3                                NaN  672.829807  \n",
       "4                                NaN  702.353513  "
      ]
     },
     "execution_count": 29,
     "metadata": {},
     "output_type": "execute_result"
    }
   ],
   "source": [
    "df_merged.head()"
   ]
  },
  {
   "cell_type": "code",
   "execution_count": 30,
   "id": "ea9307bf",
   "metadata": {},
   "outputs": [
    {
     "data": {
      "text/html": [
       "<div>\n",
       "<style scoped>\n",
       "    .dataframe tbody tr th:only-of-type {\n",
       "        vertical-align: middle;\n",
       "    }\n",
       "\n",
       "    .dataframe tbody tr th {\n",
       "        vertical-align: top;\n",
       "    }\n",
       "\n",
       "    .dataframe thead th {\n",
       "        text-align: right;\n",
       "    }\n",
       "</style>\n",
       "<table border=\"1\" class=\"dataframe\">\n",
       "  <thead>\n",
       "    <tr style=\"text-align: right;\">\n",
       "      <th></th>\n",
       "      <th>latitude</th>\n",
       "      <th>longitude</th>\n",
       "      <th>rep_date</th>\n",
       "      <th>size</th>\n",
       "      <th>distance</th>\n",
       "    </tr>\n",
       "  </thead>\n",
       "  <tbody>\n",
       "    <tr>\n",
       "      <th>0</th>\n",
       "      <td>48.998195</td>\n",
       "      <td>-113.578900</td>\n",
       "      <td>2020-07-05</td>\n",
       "      <td>0.05</td>\n",
       "      <td>470.180686</td>\n",
       "    </tr>\n",
       "    <tr>\n",
       "      <th>1</th>\n",
       "      <td>49.000000</td>\n",
       "      <td>-113.646400</td>\n",
       "      <td>2003-10-19</td>\n",
       "      <td>1707.50</td>\n",
       "      <td>479.499136</td>\n",
       "    </tr>\n",
       "    <tr>\n",
       "      <th>2</th>\n",
       "      <td>49.031652</td>\n",
       "      <td>-113.607528</td>\n",
       "      <td>2004-09-11</td>\n",
       "      <td>0.50</td>\n",
       "      <td>475.972402</td>\n",
       "    </tr>\n",
       "    <tr>\n",
       "      <th>3</th>\n",
       "      <td>49.056267</td>\n",
       "      <td>-113.568450</td>\n",
       "      <td>2009-04-21</td>\n",
       "      <td>0.01</td>\n",
       "      <td>463.763723</td>\n",
       "    </tr>\n",
       "    <tr>\n",
       "      <th>4</th>\n",
       "      <td>49.066883</td>\n",
       "      <td>-113.607700</td>\n",
       "      <td>2009-04-21</td>\n",
       "      <td>0.02</td>\n",
       "      <td>462.459212</td>\n",
       "    </tr>\n",
       "    <tr>\n",
       "      <th>...</th>\n",
       "      <td>...</td>\n",
       "      <td>...</td>\n",
       "      <td>...</td>\n",
       "      <td>...</td>\n",
       "      <td>...</td>\n",
       "    </tr>\n",
       "    <tr>\n",
       "      <th>30232</th>\n",
       "      <td>59.997217</td>\n",
       "      <td>-111.310200</td>\n",
       "      <td>2005-06-08</td>\n",
       "      <td>18.40</td>\n",
       "      <td>716.705233</td>\n",
       "    </tr>\n",
       "    <tr>\n",
       "      <th>30233</th>\n",
       "      <td>59.997800</td>\n",
       "      <td>-110.634600</td>\n",
       "      <td>2000-08-04</td>\n",
       "      <td>2.00</td>\n",
       "      <td>736.999018</td>\n",
       "    </tr>\n",
       "    <tr>\n",
       "      <th>30234</th>\n",
       "      <td>59.998333</td>\n",
       "      <td>-116.528333</td>\n",
       "      <td>2007-05-27</td>\n",
       "      <td>0.50</td>\n",
       "      <td>728.810365</td>\n",
       "    </tr>\n",
       "    <tr>\n",
       "      <th>30235</th>\n",
       "      <td>59.999000</td>\n",
       "      <td>-117.651000</td>\n",
       "      <td>2013-07-26</td>\n",
       "      <td>27.00</td>\n",
       "      <td>714.386195</td>\n",
       "    </tr>\n",
       "    <tr>\n",
       "      <th>30236</th>\n",
       "      <td>59.999510</td>\n",
       "      <td>-117.962560</td>\n",
       "      <td>2016-06-25</td>\n",
       "      <td>0.80</td>\n",
       "      <td>721.333695</td>\n",
       "    </tr>\n",
       "  </tbody>\n",
       "</table>\n",
       "<p>30237 rows × 5 columns</p>\n",
       "</div>"
      ],
      "text/plain": [
       "        latitude   longitude    rep_date     size    distance\n",
       "0      48.998195 -113.578900  2020-07-05     0.05  470.180686\n",
       "1      49.000000 -113.646400  2003-10-19  1707.50  479.499136\n",
       "2      49.031652 -113.607528  2004-09-11     0.50  475.972402\n",
       "3      49.056267 -113.568450  2009-04-21     0.01  463.763723\n",
       "4      49.066883 -113.607700  2009-04-21     0.02  462.459212\n",
       "...          ...         ...         ...      ...         ...\n",
       "30232  59.997217 -111.310200  2005-06-08    18.40  716.705233\n",
       "30233  59.997800 -110.634600  2000-08-04     2.00  736.999018\n",
       "30234  59.998333 -116.528333  2007-05-27     0.50  728.810365\n",
       "30235  59.999000 -117.651000  2013-07-26    27.00  714.386195\n",
       "30236  59.999510 -117.962560  2016-06-25     0.80  721.333695\n",
       "\n",
       "[30237 rows x 5 columns]"
      ]
     },
     "execution_count": 30,
     "metadata": {},
     "output_type": "execute_result"
    }
   ],
   "source": [
    "# Creating a composite key for aggregating and finding minimum distance of a weather station from a specific fire\n",
    "\n",
    "df_agg_mindistance = df_merged.groupby(['latitude','longitude', 'rep_date', 'size']).agg({'distance': 'min'})\n",
    "df_agg_mindistance.columns = ['distance']\n",
    "df_agg_mindistance = df_agg_mindistance.reset_index()\n",
    "df_agg_mindistance"
   ]
  },
  {
   "cell_type": "code",
   "execution_count": 31,
   "id": "d7ae8e4c",
   "metadata": {},
   "outputs": [
    {
     "data": {
      "text/html": [
       "<div>\n",
       "<style scoped>\n",
       "    .dataframe tbody tr th:only-of-type {\n",
       "        vertical-align: middle;\n",
       "    }\n",
       "\n",
       "    .dataframe tbody tr th {\n",
       "        vertical-align: top;\n",
       "    }\n",
       "\n",
       "    .dataframe thead th {\n",
       "        text-align: right;\n",
       "    }\n",
       "</style>\n",
       "<table border=\"1\" class=\"dataframe\">\n",
       "  <thead>\n",
       "    <tr style=\"text-align: right;\">\n",
       "      <th></th>\n",
       "      <th>src_agency</th>\n",
       "      <th>latitude</th>\n",
       "      <th>longitude</th>\n",
       "      <th>rep_date</th>\n",
       "      <th>size</th>\n",
       "      <th>cause</th>\n",
       "      <th>prot_zone</th>\n",
       "      <th>eco_name</th>\n",
       "      <th>Station Latitude</th>\n",
       "      <th>Station Longitude</th>\n",
       "      <th>Maximum Temperature (C)</th>\n",
       "      <th>Minimum Temperature (C)</th>\n",
       "      <th>Mean Temperature (C)</th>\n",
       "      <th>Speed of Maximum Wind Gust (km/h)</th>\n",
       "      <th>distance</th>\n",
       "    </tr>\n",
       "  </thead>\n",
       "  <tbody>\n",
       "    <tr>\n",
       "      <th>0</th>\n",
       "      <td>AB</td>\n",
       "      <td>59.400000</td>\n",
       "      <td>-110.639500</td>\n",
       "      <td>2006-06-15</td>\n",
       "      <td>5.70</td>\n",
       "      <td>L</td>\n",
       "      <td></td>\n",
       "      <td>Taiga Shield West</td>\n",
       "      <td>53.67</td>\n",
       "      <td>-113.47</td>\n",
       "      <td>17.9</td>\n",
       "      <td>11.9</td>\n",
       "      <td>14.9</td>\n",
       "      <td>NaN</td>\n",
       "      <td>661.229360</td>\n",
       "    </tr>\n",
       "    <tr>\n",
       "      <th>1</th>\n",
       "      <td>AB</td>\n",
       "      <td>59.612667</td>\n",
       "      <td>-117.118500</td>\n",
       "      <td>2006-06-15</td>\n",
       "      <td>38.70</td>\n",
       "      <td>L</td>\n",
       "      <td></td>\n",
       "      <td>Taiga Plain</td>\n",
       "      <td>53.67</td>\n",
       "      <td>-113.47</td>\n",
       "      <td>17.9</td>\n",
       "      <td>11.9</td>\n",
       "      <td>14.9</td>\n",
       "      <td>NaN</td>\n",
       "      <td>698.308662</td>\n",
       "    </tr>\n",
       "    <tr>\n",
       "      <th>2</th>\n",
       "      <td>AB</td>\n",
       "      <td>58.707733</td>\n",
       "      <td>-118.700583</td>\n",
       "      <td>2006-06-15</td>\n",
       "      <td>0.45</td>\n",
       "      <td>H</td>\n",
       "      <td></td>\n",
       "      <td>Taiga Plain</td>\n",
       "      <td>53.55</td>\n",
       "      <td>-114.11</td>\n",
       "      <td>19.0</td>\n",
       "      <td>12.0</td>\n",
       "      <td>15.5</td>\n",
       "      <td>NaN</td>\n",
       "      <td>640.966509</td>\n",
       "    </tr>\n",
       "    <tr>\n",
       "      <th>3</th>\n",
       "      <td>AB</td>\n",
       "      <td>58.481000</td>\n",
       "      <td>-114.523400</td>\n",
       "      <td>2006-06-15</td>\n",
       "      <td>0.01</td>\n",
       "      <td>H</td>\n",
       "      <td></td>\n",
       "      <td>Boreal PLain</td>\n",
       "      <td>53.67</td>\n",
       "      <td>-113.47</td>\n",
       "      <td>17.9</td>\n",
       "      <td>11.9</td>\n",
       "      <td>14.9</td>\n",
       "      <td>NaN</td>\n",
       "      <td>539.654375</td>\n",
       "    </tr>\n",
       "    <tr>\n",
       "      <th>4</th>\n",
       "      <td>AB</td>\n",
       "      <td>58.058833</td>\n",
       "      <td>-113.588167</td>\n",
       "      <td>2006-06-15</td>\n",
       "      <td>0.10</td>\n",
       "      <td>L</td>\n",
       "      <td></td>\n",
       "      <td>Boreal PLain</td>\n",
       "      <td>53.67</td>\n",
       "      <td>-113.47</td>\n",
       "      <td>17.9</td>\n",
       "      <td>11.9</td>\n",
       "      <td>14.9</td>\n",
       "      <td>NaN</td>\n",
       "      <td>488.704791</td>\n",
       "    </tr>\n",
       "  </tbody>\n",
       "</table>\n",
       "</div>"
      ],
      "text/plain": [
       "  src_agency   latitude   longitude    rep_date   size cause prot_zone  \\\n",
       "0         AB  59.400000 -110.639500  2006-06-15   5.70     L             \n",
       "1         AB  59.612667 -117.118500  2006-06-15  38.70     L             \n",
       "2         AB  58.707733 -118.700583  2006-06-15   0.45     H             \n",
       "3         AB  58.481000 -114.523400  2006-06-15   0.01     H             \n",
       "4         AB  58.058833 -113.588167  2006-06-15   0.10     L             \n",
       "\n",
       "            eco_name  Station Latitude  Station Longitude  \\\n",
       "0  Taiga Shield West             53.67            -113.47   \n",
       "1        Taiga Plain             53.67            -113.47   \n",
       "2        Taiga Plain             53.55            -114.11   \n",
       "3       Boreal PLain             53.67            -113.47   \n",
       "4       Boreal PLain             53.67            -113.47   \n",
       "\n",
       "   Maximum Temperature (C)  Minimum Temperature (C)  Mean Temperature (C)  \\\n",
       "0                     17.9                     11.9                  14.9   \n",
       "1                     17.9                     11.9                  14.9   \n",
       "2                     19.0                     12.0                  15.5   \n",
       "3                     17.9                     11.9                  14.9   \n",
       "4                     17.9                     11.9                  14.9   \n",
       "\n",
       "   Speed of Maximum Wind Gust (km/h)    distance  \n",
       "0                                NaN  661.229360  \n",
       "1                                NaN  698.308662  \n",
       "2                                NaN  640.966509  \n",
       "3                                NaN  539.654375  \n",
       "4                                NaN  488.704791  "
      ]
     },
     "execution_count": 31,
     "metadata": {},
     "output_type": "execute_result"
    }
   ],
   "source": [
    "# Merging by a composite key\n",
    "\n",
    "df_merged = df_merged.merge(df_agg_mindistance, on = ['latitude', 'longitude', 'rep_date', 'size', 'distance'])\n",
    "df_merged.head()"
   ]
  },
  {
   "cell_type": "code",
   "execution_count": 32,
   "id": "7e184429",
   "metadata": {},
   "outputs": [
    {
     "data": {
      "text/plain": [
       "count    30364.000000\n",
       "mean       316.083707\n",
       "std        154.438577\n",
       "min         52.022231\n",
       "25%        199.750161\n",
       "50%        277.577312\n",
       "75%        407.809790\n",
       "max        791.415311\n",
       "Name: distance, dtype: float64"
      ]
     },
     "execution_count": 32,
     "metadata": {},
     "output_type": "execute_result"
    }
   ],
   "source": [
    "df_merged['distance'].describe()"
   ]
  },
  {
   "cell_type": "code",
   "execution_count": 33,
   "id": "73f63bab",
   "metadata": {},
   "outputs": [
    {
     "data": {
      "text/plain": [
       "1994-08-03    736\n",
       "1970-07-16    631\n",
       "1996-06-12    587\n",
       "1978-08-04    529\n",
       "1984-08-05    518\n",
       "             ... \n",
       "1967-10-19      1\n",
       "1969-10-07      1\n",
       "1970-11-19      1\n",
       "1970-11-07      1\n",
       "2021-03-04      1\n",
       "Name: rep_date, Length: 17598, dtype: int64"
      ]
     },
     "execution_count": 33,
     "metadata": {},
     "output_type": "execute_result"
    }
   ],
   "source": [
    "df_fires['rep_date'].value_counts()"
   ]
  },
  {
   "cell_type": "markdown",
   "id": "2f242130",
   "metadata": {},
   "source": [
    "### 5. Exploring relationships"
   ]
  },
  {
   "cell_type": "markdown",
   "id": "a34054dc",
   "metadata": {},
   "source": [
    "### 5.1 Correlation heatmap"
   ]
  },
  {
   "cell_type": "markdown",
   "id": "53216da3",
   "metadata": {},
   "source": [
    "#### Alberta province/ agency exploring weather conditions and fire size relationship in case the fire is human-caused"
   ]
  },
  {
   "cell_type": "code",
   "execution_count": 86,
   "id": "51699bed",
   "metadata": {},
   "outputs": [
    {
     "data": {
      "text/plain": [
       "(18231, 16)"
      ]
     },
     "execution_count": 86,
     "metadata": {},
     "output_type": "execute_result"
    }
   ],
   "source": [
    "# Focusing on Human-caused fires\n",
    "\n",
    "df_human = df_merged[df_merged['cause'] == 'H']\n",
    "df_human.shape"
   ]
  },
  {
   "cell_type": "code",
   "execution_count": 35,
   "id": "c04042b9",
   "metadata": {},
   "outputs": [],
   "source": [
    "# Create a subset excluding the \"latitude\", \"longitude\", \"Station Latitude\", \"Station Longitude\" columns\n",
    "\n",
    "sub = df_human[['size', 'Maximum Temperature (C)', 'Speed of Maximum Wind Gust (km/h)']]"
   ]
  },
  {
   "cell_type": "code",
   "execution_count": 36,
   "id": "17325f51",
   "metadata": {},
   "outputs": [],
   "source": [
    "# Dropping missing values of 'Speed of Maximum Wind Gust (km/h)'\n",
    "\n",
    "sub = sub.dropna(subset='Speed of Maximum Wind Gust (km/h)')\n"
   ]
  },
  {
   "cell_type": "code",
   "execution_count": 37,
   "id": "92cc9986",
   "metadata": {},
   "outputs": [
    {
     "data": {
      "text/html": [
       "<div>\n",
       "<style scoped>\n",
       "    .dataframe tbody tr th:only-of-type {\n",
       "        vertical-align: middle;\n",
       "    }\n",
       "\n",
       "    .dataframe tbody tr th {\n",
       "        vertical-align: top;\n",
       "    }\n",
       "\n",
       "    .dataframe thead th {\n",
       "        text-align: right;\n",
       "    }\n",
       "</style>\n",
       "<table border=\"1\" class=\"dataframe\">\n",
       "  <thead>\n",
       "    <tr style=\"text-align: right;\">\n",
       "      <th></th>\n",
       "      <th>size</th>\n",
       "      <th>Maximum Temperature (C)</th>\n",
       "      <th>Speed of Maximum Wind Gust (km/h)</th>\n",
       "    </tr>\n",
       "  </thead>\n",
       "  <tbody>\n",
       "    <tr>\n",
       "      <th>size</th>\n",
       "      <td>1.000000</td>\n",
       "      <td>0.007202</td>\n",
       "      <td>0.042625</td>\n",
       "    </tr>\n",
       "    <tr>\n",
       "      <th>Maximum Temperature (C)</th>\n",
       "      <td>0.007202</td>\n",
       "      <td>1.000000</td>\n",
       "      <td>0.097890</td>\n",
       "    </tr>\n",
       "    <tr>\n",
       "      <th>Speed of Maximum Wind Gust (km/h)</th>\n",
       "      <td>0.042625</td>\n",
       "      <td>0.097890</td>\n",
       "      <td>1.000000</td>\n",
       "    </tr>\n",
       "  </tbody>\n",
       "</table>\n",
       "</div>"
      ],
      "text/plain": [
       "                                       size  Maximum Temperature (C)  \\\n",
       "size                               1.000000                 0.007202   \n",
       "Maximum Temperature (C)            0.007202                 1.000000   \n",
       "Speed of Maximum Wind Gust (km/h)  0.042625                 0.097890   \n",
       "\n",
       "                                   Speed of Maximum Wind Gust (km/h)  \n",
       "size                                                        0.042625  \n",
       "Maximum Temperature (C)                                     0.097890  \n",
       "Speed of Maximum Wind Gust (km/h)                           1.000000  "
      ]
     },
     "execution_count": 37,
     "metadata": {},
     "output_type": "execute_result"
    }
   ],
   "source": [
    "# Create a correlation matrix\n",
    "\n",
    "sub.corr()"
   ]
  },
  {
   "cell_type": "code",
   "execution_count": 131,
   "id": "eec6d3e7",
   "metadata": {},
   "outputs": [
    {
     "data": {
      "image/png": "[encoded data removed]",
      "text/plain": [
       "<Figure size 700x700 with 2 Axes>"
      ]
     },
     "metadata": {},
     "output_type": "display_data"
    }
   ],
   "source": [
    "# Create a subplot with matplotlib\n",
    "f,ax = plt.subplots(figsize=(7,7))\n",
    "\n",
    "# Create the correlation heatmap in seaborn by applying a heatmap onto the correlation matrix and the subplots defined above.\n",
    "corr = sns.heatmap(sub.corr(), annot = True, ax = ax) # The `annot` argument allows the plot to \n",
    "#place the correlation coefficients onto the heatmap."
   ]
  },
  {
   "cell_type": "markdown",
   "id": "4a6d0f67",
   "metadata": {},
   "source": [
    "### Result:\n",
    "- There is a weak positive relationship between fire spread and maximum temperature in Alberta. Apparently, the maximum temperature or maximum wind gust have a very small impact in spreading fire in forest range. This means increasing temperature or wind gust won't cause any huge effect in burning range of forests.\n",
    "\n",
    "- This might be due to measurement bias - we don't khow the temperature and wind gust values at or around the fire location. We need to see if we have any other data available from which we can derive a more accurate reading for temperature, wind info, etc. at the fire location. In Alberta, for example, the distance between the fire and weather station locations average at more 300kms - this makes the readings pretty unreliable."
   ]
  },
  {
   "cell_type": "markdown",
   "id": "39799c7a",
   "metadata": {},
   "source": [
    "### 5.2 Scatterplots"
   ]
  },
  {
   "cell_type": "code",
   "execution_count": 41,
   "id": "385fda67",
   "metadata": {},
   "outputs": [
    {
     "data": {
      "image/png": "[encoded data removed]",
      "text/plain": [
       "<Figure size 500x500 with 1 Axes>"
      ]
     },
     "metadata": {},
     "output_type": "display_data"
    }
   ],
   "source": [
    "# Create a scatterplot for the \"house age\" and \"price per unit\" columns in seaborn in log scale\n",
    "\n",
    "sns.lmplot(y = 'size', x = 'Speed of Maximum Wind Gust (km/h)', data = df_human)\n",
    "\n",
    "# Change the scale to logarithmic, because of the nature of the data (there is a large number of small values for both wind gust and fire size)\n",
    "plt.xscale('log')\n",
    "plt.yscale('log')"
   ]
  },
  {
   "cell_type": "markdown",
   "id": "a4e1ac09",
   "metadata": {},
   "source": [
    "### Results:\n",
    "\n",
    "- The plot shows a positive relationship between wind gust and the size of the fires, although the relationship seems to be pretty weak. Note that in the above plot, the axis scales were converted to logarithmic, because of the nature of the data (there is a large number of small values for both wind gust and fire size)"
   ]
  },
  {
   "cell_type": "markdown",
   "id": "64e89ce9",
   "metadata": {},
   "source": [
    "### 5.3 Pair Plots"
   ]
  },
  {
   "cell_type": "markdown",
   "id": "75c453aa",
   "metadata": {},
   "source": [
    "#### N.B.: The size variable has a lot of outliers. Our analysis below shows that 90% of the data is less than 1.3. That's why we exclude values above that from the analysis."
   ]
  },
  {
   "cell_type": "code",
   "execution_count": 67,
   "id": "f7f1e858",
   "metadata": {},
   "outputs": [
    {
     "data": {
      "text/plain": [
       "0.01     1186\n",
       "0.10      286\n",
       "0.20      117\n",
       "0.30       88\n",
       "0.50       87\n",
       "         ... \n",
       "6.56        1\n",
       "2.27        1\n",
       "1.85        1\n",
       "21.90       1\n",
       "26.00       1\n",
       "Name: size, Length: 249, dtype: int64"
      ]
     },
     "execution_count": 67,
     "metadata": {},
     "output_type": "execute_result"
    }
   ],
   "source": [
    "sub['size'].value_counts(dropna = False)"
   ]
  },
  {
   "cell_type": "code",
   "execution_count": 68,
   "id": "dea4e281",
   "metadata": {},
   "outputs": [
    {
     "data": {
      "text/plain": [
       "count     2495.000000\n",
       "mean        44.461387\n",
       "std       1762.567722\n",
       "min          0.010000\n",
       "25%          0.010000\n",
       "50%          0.020000\n",
       "75%          0.300000\n",
       "max      87659.400000\n",
       "Name: size, dtype: float64"
      ]
     },
     "execution_count": 68,
     "metadata": {},
     "output_type": "execute_result"
    }
   ],
   "source": [
    "sub['size'].describe()"
   ]
  },
  {
   "cell_type": "code",
   "execution_count": 69,
   "id": "711a8e77",
   "metadata": {},
   "outputs": [
    {
     "data": {
      "text/plain": [
       "1.3"
      ]
     },
     "execution_count": 69,
     "metadata": {},
     "output_type": "execute_result"
    }
   ],
   "source": [
    "np.percentile(sub['size'], 90)"
   ]
  },
  {
   "cell_type": "code",
   "execution_count": 70,
   "id": "a940bb42",
   "metadata": {},
   "outputs": [],
   "source": [
    "sub = sub[sub['size'] < 1.3]"
   ]
  },
  {
   "cell_type": "code",
   "execution_count": 71,
   "id": "83888546",
   "metadata": {},
   "outputs": [
    {
     "data": {
      "image/png": "[encoded data removed]",
      "text/plain": [
       "<Figure size 750x750 with 12 Axes>"
      ]
     },
     "metadata": {},
     "output_type": "display_data"
    }
   ],
   "source": [
    "# Create a pair plot \n",
    "\n",
    "g = sns.pairplot(sub.sample(frac=0.05))"
   ]
  },
  {
   "cell_type": "markdown",
   "id": "feb69062",
   "metadata": {},
   "source": [
    "### Observation: \n",
    "Based on the first scatterplot on the bottom row, perhaps there is a closer relationship between fire spread and wind gust than between maximum temperature and fire spread."
   ]
  },
  {
   "cell_type": "markdown",
   "id": "2efd876f",
   "metadata": {},
   "source": [
    "### 5.4 Categorical Plots"
   ]
  },
  {
   "cell_type": "code",
   "execution_count": 72,
   "id": "eceeb2e5",
   "metadata": {},
   "outputs": [
    {
     "data": {
      "image/png": "[encoded data removed]",
      "text/plain": [
       "<Figure size 640x480 with 1 Axes>"
      ]
     },
     "metadata": {},
     "output_type": "display_data"
    }
   ],
   "source": [
    "# Use a histogram to visualize the distribution of the variables. \n",
    "# This way, you can determine sensible categories for the 'size' column's ranges. \n",
    "# The argument \"kde\" add a line that encompasses the distribution\n",
    "\n",
    "histo_size= sns.histplot(sub['size'], bins= 20 , kde = True)\n",
    "ax = plt.gca()\n",
    "ax.set_ylim = ([0,900])"
   ]
  },
  {
   "cell_type": "markdown",
   "id": "2db866b2",
   "metadata": {},
   "source": [
    "##### Creating a categorical variable that splits the \"size\" column into categories"
   ]
  },
  {
   "cell_type": "code",
   "execution_count": 82,
   "id": "efe56d44",
   "metadata": {},
   "outputs": [],
   "source": [
    "# Deriving new column named size_class based on the size of fires in hectares\n",
    "\n",
    "df_merged.loc[df_merged['size'] <= 0.1, 'size_class'] = 'Class A'\n",
    "df_merged.loc[(df_merged['size'] > 0.1) & (df_merged['size'] < 4) , 'size_class'] = 'Class B'\n",
    "df_merged.loc[(df_merged['size'] >= 4) & (df_merged['size'] < 40) , 'size_class'] = 'Class C'\n",
    "df_merged.loc[(df_merged['size'] >= 40) & (df_merged['size'] < 121) , 'size_class'] = 'Class D'\n",
    "df_merged.loc[df_merged['size'] >=121 , 'size_class'] = 'Class E'"
   ]
  },
  {
   "cell_type": "code",
   "execution_count": 80,
   "id": "a3e9b246",
   "metadata": {},
   "outputs": [
    {
     "data": {
      "text/plain": [
       "Index(['src_agency', 'latitude', 'longitude', 'rep_date', 'size', 'cause',\n",
       "       'prot_zone', 'eco_name', 'Station Latitude', 'Station Longitude',\n",
       "       'Maximum Temperature (C)', 'Minimum Temperature (C)',\n",
       "       'Mean Temperature (C)', 'Speed of Maximum Wind Gust (km/h)', 'distance',\n",
       "       'size_class'],\n",
       "      dtype='object')"
      ]
     },
     "execution_count": 80,
     "metadata": {},
     "output_type": "execute_result"
    }
   ],
   "source": [
    "df_merged.columns"
   ]
  },
  {
   "cell_type": "code",
   "execution_count": 81,
   "id": "544b445f",
   "metadata": {
    "scrolled": true
   },
   "outputs": [
    {
     "data": {
      "image/png": "[encoded data removed]",
      "text/plain": [
       "<Figure size 608.75x500 with 1 Axes>"
      ]
     },
     "metadata": {},
     "output_type": "display_data"
    }
   ],
   "source": [
    "# Create a categorical plot in seaborn using the \"size classes\" created above\n",
    "\n",
    "sns.set(style=\"ticks\")\n",
    "g = sns.catplot(x=\"cause\", y=\"size\", hue=\"size_class\", data= df_merged[df_merged['size'] < 50])"
   ]
  },
  {
   "cell_type": "markdown",
   "id": "98f941ec",
   "metadata": {},
   "source": [
    "#### Observations\n",
    "\n",
    "Most of class C and D fires (4=> size <121 (hectares)) are either caused by lightning or are humand-caused. Most of prescribed burns are small in size (falling into class A and B which are in size of less than 4 hectares)."
   ]
  },
  {
   "cell_type": "code",
   "execution_count": 85,
   "id": "d78fb31b",
   "metadata": {},
   "outputs": [],
   "source": [
    "# Exporting merged dataframe in PKL format\n",
    "\n",
    "df_merged.to_pickle(os.path.join(path, '02 Data', 'Prepared Data' , 'wthr_fires.pkl'))"
   ]
  },
  {
   "cell_type": "markdown",
   "id": "8c9a4193",
   "metadata": {},
   "source": [
    "### Revisit the questions "
   ]
  },
  {
   "cell_type": "markdown",
   "id": "e84e26cc",
   "metadata": {},
   "source": [
    "#### 1. Assessing current fire activity by monitoring forest characteristics (e.g., cause, location)\n",
    "- Most of the small fires are prescribed fires set by authorized forest managers to mimic natural fire processes to renew and maintain healthy ecosystems. \n",
    "- Most of the large-size fires are either caused by lightning or are human-caused. We need to plan to inform people how to picnic and barbeque in forests so that we would reduce the challenges of forest management and also  maintain healthy ecosystems. "
   ]
  },
  {
   "cell_type": "markdown",
   "id": "2f1c8073",
   "metadata": {},
   "source": [
    "#### 2. Checking other variables like weather conditions (wind, temperature) to see if there is any relationship between those conditions and wildfire happened in a specific location (subject to the availability of data for weather conditions) \n",
    "\n",
    "- We were able to find the weather data for Alberta province/agency which is one of the top three agencies who reported the highest number of fires. After analysis and exploring data we found out there is a weak positive relationshop between fire spread and maximum temperature and also between fire spread and wind gust.\n",
    "\n",
    "In the combination phase we used latitude and longitude to find the closet weather station to fire location so we could merged the data base on location."
   ]
  },
  {
   "cell_type": "markdown",
   "id": "b40ce6b6",
   "metadata": {},
   "source": [
    "### Hypothesis\n",
    "\n",
    "- The large-size fires are either caused by lightning or are human-caused.\n",
    "- Increasing the wind gust/ maxiumum temperature would lead an increase in size of fires."
   ]
  }
 ],
 "metadata": {
  "kernelspec": {
   "display_name": "Python 3 (ipykernel)",
   "language": "python",
   "name": "python3"
  },
  "language_info": {
   "codemirror_mode": {
    "name": "ipython",
    "version": 3
   },
   "file_extension": ".py",
   "mimetype": "text/x-python",
   "name": "python",
   "nbconvert_exporter": "python",
   "pygments_lexer": "ipython3",
   "version": "3.9.13"
  }
 },
 "nbformat": 4,
 "nbformat_minor": 5
}
